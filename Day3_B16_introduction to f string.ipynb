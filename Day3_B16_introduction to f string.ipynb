{
 "cells": [
  {
   "cell_type": "code",
   "execution_count": null,
   "metadata": {},
   "outputs": [],
   "source": [
    "#Introduction of f strings:\n"
   ]
  },
  {
   "cell_type": "code",
   "execution_count": 2,
   "metadata": {},
   "outputs": [
    {
     "name": "stdout",
     "output_type": "stream",
     "text": [
      "shreyapatil\n"
     ]
    }
   ],
   "source": [
    "f_name='shreya'\n",
    "l_name='patil'\n",
    "full_name=f\"{f_name}{l_name}\"\n",
    "print(full_name)"
   ]
  },
  {
   "cell_type": "code",
   "execution_count": 3,
   "metadata": {},
   "outputs": [
    {
     "name": "stdout",
     "output_type": "stream",
     "text": [
      "shreya patil\n"
     ]
    }
   ],
   "source": [
    "f_name='shreya'\n",
    "l_name='patil'\n",
    "full_name=f\"{f_name} {l_name}\"\n",
    "print(full_name)"
   ]
  },
  {
   "cell_type": "code",
   "execution_count": 4,
   "metadata": {},
   "outputs": [
    {
     "name": "stdout",
     "output_type": "stream",
     "text": [
      "Shreya Patil\n"
     ]
    }
   ],
   "source": [
    "print(full_name.title())"
   ]
  },
  {
   "cell_type": "code",
   "execution_count": 5,
   "metadata": {},
   "outputs": [
    {
     "name": "stdout",
     "output_type": "stream",
     "text": [
      "SHREYA PATIL\n"
     ]
    }
   ],
   "source": [
    "print(full_name.upper())"
   ]
  },
  {
   "cell_type": "code",
   "execution_count": 6,
   "metadata": {},
   "outputs": [
    {
     "name": "stdout",
     "output_type": "stream",
     "text": [
      "shreya patil\n"
     ]
    }
   ],
   "source": [
    "print(full_name.lower())"
   ]
  },
  {
   "cell_type": "code",
   "execution_count": 7,
   "metadata": {},
   "outputs": [
    {
     "name": "stdout",
     "output_type": "stream",
     "text": [
      "Here is Shreya Patil\n"
     ]
    }
   ],
   "source": [
    "message=f\"Here is {full_name.title()}\"\n",
    "print(message)"
   ]
  },
  {
   "cell_type": "code",
   "execution_count": null,
   "metadata": {},
   "outputs": [],
   "source": [
    "#Adding white spaces to strings:"
   ]
  },
  {
   "cell_type": "code",
   "execution_count": 8,
   "metadata": {},
   "outputs": [
    {
     "name": "stdout",
     "output_type": "stream",
     "text": [
      "\n",
      "apple \n",
      "grapes \n",
      "kivi \n",
      "guava \n",
      "cherry \n",
      "fig\n"
     ]
    }
   ],
   "source": [
    "print('\\napple','\\ngrapes','\\nkivi','\\nguava','\\ncherry','\\nfig')"
   ]
  },
  {
   "cell_type": "code",
   "execution_count": 9,
   "metadata": {},
   "outputs": [
    {
     "name": "stdout",
     "output_type": "stream",
     "text": [
      "\tapple \tgrapes \tkivi \tguava \tcherry \tfig\n"
     ]
    }
   ],
   "source": [
    "print('\\tapple','\\tgrapes','\\tkivi','\\tguava','\\tcherry','\\tfig')"
   ]
  },
  {
   "cell_type": "code",
   "execution_count": 10,
   "metadata": {},
   "outputs": [
    {
     "name": "stdout",
     "output_type": "stream",
     "text": [
      "\n",
      "\tapple \n",
      "\tgrapes \n",
      "\tkivi \n",
      "\tguava \n",
      "\tcherry \n",
      "\tfig\n"
     ]
    }
   ],
   "source": [
    "print('\\n\\tapple','\\n\\tgrapes','\\n\\tkivi','\\n\\tguava','\\n\\tcherry','\\n\\tfig')"
   ]
  },
  {
   "cell_type": "code",
   "execution_count": 11,
   "metadata": {},
   "outputs": [
    {
     "name": "stdout",
     "output_type": "stream",
     "text": [
      "\t\n",
      "apple \t\n",
      "grapes \t\n",
      "kivi \t\n",
      "guava \t\n",
      "cherry \t\n",
      "fig\n"
     ]
    }
   ],
   "source": [
    "print('\\t\\napple','\\t\\ngrapes','\\t\\nkivi','\\t\\nguava','\\t\\ncherry','\\t\\nfig')"
   ]
  },
  {
   "cell_type": "code",
   "execution_count": null,
   "metadata": {},
   "outputs": [],
   "source": []
  }
 ],
 "metadata": {
  "kernelspec": {
   "display_name": "Python 3",
   "language": "python",
   "name": "python3"
  },
  "language_info": {
   "codemirror_mode": {
    "name": "ipython",
    "version": 3
   },
   "file_extension": ".py",
   "mimetype": "text/x-python",
   "name": "python",
   "nbconvert_exporter": "python",
   "pygments_lexer": "ipython3",
   "version": "3.7.6"
  }
 },
 "nbformat": 4,
 "nbformat_minor": 4
}
