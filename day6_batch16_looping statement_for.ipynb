{
 "cells": [
  {
   "cell_type": "code",
   "execution_count": 2,
   "metadata": {},
   "outputs": [
    {
     "name": "stdout",
     "output_type": "stream",
     "text": [
      "['vishal', 'suraj', 'manthan', 'harsh', 'shubham', 'tejas']\n"
     ]
    }
   ],
   "source": [
    "#understanding for loop:\n",
    "\n",
    "student=['vishal','suraj','manthan','harsh','shubham','tejas']\n",
    "print(student)\n"
   ]
  },
  {
   "cell_type": "code",
   "execution_count": 7,
   "metadata": {},
   "outputs": [
    {
     "name": "stdout",
     "output_type": "stream",
     "text": [
      "vishal\n",
      "suraj\n",
      "manthan\n",
      "harsh\n",
      "shubham\n",
      "tejas\n"
     ]
    }
   ],
   "source": [
    "#split out elements:\n",
    "\n",
    "for std in student:\n",
    "    print(std)"
   ]
  },
  {
   "cell_type": "code",
   "execution_count": 10,
   "metadata": {},
   "outputs": [
    {
     "name": "stdout",
     "output_type": "stream",
     "text": [
      "Today is your first day in our class, Welcome!!!...vishal.\n",
      "\n",
      "Today is your first day in our class, Welcome!!!...suraj.\n",
      "\n",
      "Today is your first day in our class, Welcome!!!...manthan.\n",
      "\n",
      "Today is your first day in our class, Welcome!!!...harsh.\n",
      "\n",
      "Today is your first day in our class, Welcome!!!...shubham.\n",
      "\n",
      "Today is your first day in our class, Welcome!!!...tejas.\n",
      "\n"
     ]
    }
   ],
   "source": [
    "for z in student:\n",
    "        print(f\"Today is your first day in our class, Welcome!!!...{z}.\\n\")"
   ]
  },
  {
   "cell_type": "code",
   "execution_count": 13,
   "metadata": {},
   "outputs": [
    {
     "name": "stdout",
     "output_type": "stream",
     "text": [
      "Today is your first day in our class, Welcome!!!...vishal.\n",
      "continuation is the only key of success, so keep it up...vishal.\n",
      "\n",
      "Today is your first day in our class, Welcome!!!...suraj.\n",
      "continuation is the only key of success, so keep it up...suraj.\n",
      "\n",
      "Today is your first day in our class, Welcome!!!...manthan.\n",
      "continuation is the only key of success, so keep it up...manthan.\n",
      "\n",
      "Today is your first day in our class, Welcome!!!...harsh.\n",
      "continuation is the only key of success, so keep it up...harsh.\n",
      "\n",
      "Today is your first day in our class, Welcome!!!...shubham.\n",
      "continuation is the only key of success, so keep it up...shubham.\n",
      "\n",
      "Today is your first day in our class, Welcome!!!...tejas.\n",
      "continuation is the only key of success, so keep it up...tejas.\n",
      "\n",
      "Work hard and achieve the best.\n"
     ]
    }
   ],
   "source": [
    "for z in student:\n",
    "        print(f\"Today is your first day in our class, Welcome!!!...{z}.\")\n",
    "        print(f\"continuation is the only key of success, so keep it up...{z}.\\n\")\n",
    "print(f\"Work hard and achieve the best.\")"
   ]
  },
  {
   "cell_type": "code",
   "execution_count": 15,
   "metadata": {},
   "outputs": [
    {
     "name": "stdout",
     "output_type": "stream",
     "text": [
      "1\n",
      "2\n",
      "3\n",
      "4\n",
      "5\n",
      "6\n",
      "7\n",
      "8\n",
      "9\n",
      "10\n",
      "11\n",
      "12\n",
      "13\n",
      "14\n"
     ]
    }
   ],
   "source": [
    "#making numerical list:\n",
    "for value in range(1, 15):\n",
    "    print(value)"
   ]
  },
  {
   "cell_type": "code",
   "execution_count": 17,
   "metadata": {},
   "outputs": [
    {
     "name": "stdout",
     "output_type": "stream",
     "text": [
      "1\n",
      "2\n",
      "3\n",
      "4\n",
      "5\n",
      "6\n",
      "7\n",
      "8\n",
      "9\n",
      "10\n",
      "11\n",
      "12\n",
      "13\n",
      "14\n",
      "15\n"
     ]
    }
   ],
   "source": [
    "for value in range(1, 15+1):\n",
    "    print(value)"
   ]
  },
  {
   "cell_type": "code",
   "execution_count": 18,
   "metadata": {},
   "outputs": [
    {
     "name": "stdout",
     "output_type": "stream",
     "text": [
      "[1, 2, 3, 4, 5, 6, 7, 8, 9, 10]\n"
     ]
    }
   ],
   "source": [
    "num=list(range(1,11))\n",
    "print(num)"
   ]
  },
  {
   "cell_type": "code",
   "execution_count": 20,
   "metadata": {},
   "outputs": [
    {
     "name": "stdout",
     "output_type": "stream",
     "text": [
      "[1, 3, 5, 7, 9]\n"
     ]
    }
   ],
   "source": [
    "#even num:\n",
    "odd=list(range(1,11,2))\n",
    "print(odd)\n"
   ]
  },
  {
   "cell_type": "code",
   "execution_count": 21,
   "metadata": {},
   "outputs": [
    {
     "name": "stdout",
     "output_type": "stream",
     "text": [
      "[2, 4, 6, 8, 10]\n"
     ]
    }
   ],
   "source": [
    "\n",
    "even=list(range(2,11,2))\n",
    "print(even)"
   ]
  },
  {
   "cell_type": "code",
   "execution_count": null,
   "metadata": {},
   "outputs": [],
   "source": []
  }
 ],
 "metadata": {
  "kernelspec": {
   "display_name": "Python 3",
   "language": "python",
   "name": "python3"
  },
  "language_info": {
   "codemirror_mode": {
    "name": "ipython",
    "version": 3
   },
   "file_extension": ".py",
   "mimetype": "text/x-python",
   "name": "python",
   "nbconvert_exporter": "python",
   "pygments_lexer": "ipython3",
   "version": "3.7.6"
  }
 },
 "nbformat": 4,
 "nbformat_minor": 4
}
